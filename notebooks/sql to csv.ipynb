{
 "cells": [
  {
   "cell_type": "code",
   "execution_count": 7,
   "metadata": {},
   "outputs": [],
   "source": [
    "import sqlite3\n",
    "import pandas as pd\n",
    "\n",
    "# Connect to the SQLite database\n",
    "conn = sqlite3.connect('/Users/jeesoojhun/Documents/Flatiron/Phase-2-Project-Jeesoo/zippedData/im.db')\n",
    "# List of table names you want to export\n",
    "tables = ['movie_basics', 'directors', 'movie_akas', 'movie_ratings', 'persons', 'principals', 'writers']\n",
    "\n",
    "# Loop through each table and export it to CSV\n",
    "for table in tables:\n",
    "    query = f\"SELECT * FROM {table}\"\n",
    "    df = pd.read_sql(query, conn)\n",
    "    df.to_csv(f'{table}.csv', index=False)\n"
   ]
  },
  {
   "cell_type": "code",
   "execution_count": null,
   "metadata": {},
   "outputs": [],
   "source": []
  }
 ],
 "metadata": {
  "kernelspec": {
   "display_name": "Cohort_Env",
   "language": "python",
   "name": "python3"
  },
  "language_info": {
   "codemirror_mode": {
    "name": "ipython",
    "version": 3
   },
   "file_extension": ".py",
   "mimetype": "text/x-python",
   "name": "python",
   "nbconvert_exporter": "python",
   "pygments_lexer": "ipython3",
   "version": "3.8.19"
  }
 },
 "nbformat": 4,
 "nbformat_minor": 2
}
